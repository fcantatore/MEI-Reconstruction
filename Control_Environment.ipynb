{
 "cells": [
  {
   "cell_type": "markdown",
   "metadata": {},
   "source": [
    "# Control Environment"
   ]
  },
  {
   "cell_type": "markdown",
   "metadata": {},
   "source": [
    "Here we can test the components of the MEI generation program.\\\n",
    "We will use as Loss the linear model for predicting the fire rate of simple cell in V1, and use as kernel the Gabor Function.\\\n",
    "As a result we expect the MEI to resemble the Gabor Kernel used in the Loss. "
   ]
  },
  {
   "cell_type": "markdown",
   "metadata": {},
   "source": [
    "## Generic Imports and Auxiliary Functions"
   ]
  },
  {
   "cell_type": "code",
   "execution_count": 1,
   "metadata": {},
   "outputs": [],
   "source": [
    "# Generic Imports\n",
    "import numpy as np\n",
    "import pandas as pd\n",
    "import torch\n",
    "import matplotlib.pyplot as plt \n",
    "import matplotlib.patches as patches\n",
    "import ipywidgets as widget\n",
    "from ipywidgets import interact, interactive, fixed, IntSlider, FloatSlider\n",
    "import torch.optim as optim\n",
    "from scipy import ndimage, signal\n",
    "\n",
    "from matplotlib.animation import FuncAnimation, PillowWriter\n",
    "from IPython.display import HTML\n",
    "\n",
    "# show figures inline\n",
    "%matplotlib inline\n",
    "\n",
    "device = torch.device(\"cuda\") if torch.cuda.is_available() else torch.device(\"cpu\")"
   ]
  },
  {
   "cell_type": "code",
   "execution_count": 2,
   "metadata": {},
   "outputs": [],
   "source": [
    "def myimshow(I, type=\"rel\", figsize=(5,5), title=None, **kwargs):\n",
    "    # utility function to show image\n",
    "    plt.figure(figsize=figsize);\n",
    "    if title != None:\n",
    "        plt.title(title)\n",
    "    plt.axis('off')\n",
    "    # plt.imshow(I, cmap=\"gray\", **kwargs)\n",
    "    vmin, vmax = None, None\n",
    "    if type == \"abs\":\n",
    "        vmin, vmax = 0, 255\n",
    "    plt.imshow(I, cmap=\"gray\", vmin=vmin, vmax=vmax, aspect='auto', **kwargs)"
   ]
  },
  {
   "cell_type": "code",
   "execution_count": 3,
   "metadata": {},
   "outputs": [],
   "source": [
    "def rescale_images(images, low=0, high=1, together=True):\n",
    "    #rescales pixel value in the range [low,high]\n",
    "    axis = None if together else (1, 2)\n",
    "    images = images - images.min(axis=axis, keepdims=True)\n",
    "    images = images / images.max(axis=axis, keepdims=True) * (high - low) + low\n",
    "    return images"
   ]
  },
  {
   "cell_type": "code",
   "execution_count": 4,
   "metadata": {},
   "outputs": [],
   "source": [
    "def adjust_contrast(img, contrast=-1, mu=-1, img_min=0, img_max=255, force=True, verbose=False, steps=5000):\n",
    "    \"\"\"\n",
    "    Performs contrast adjustment of the image, being mindful of the image value bounds (e.g. [0, 255]). Given the bounds\n",
    "    the normal shift and scale will not guarantee that the resulting image still has the desired mean luminance\n",
    "    and contrast.\n",
    "    Args:\n",
    "        img: image to adjsut the contrast\n",
    "        contrast: desired contrast - this is taken to be the RMS contrast\n",
    "        mu: desired mean value of the final image\n",
    "        img_min: the minimum pixel intensity allowed\n",
    "        img_max: the maximum pixel intensity allowed\n",
    "        force: if True, iterative approach is taken to produce an image with the desired stats. This will likely cause\n",
    "        some pixels to saturate in the upper and lower bounds. If False, then image is scaled simply based on ratio of\n",
    "        current and desired contrast, and then clipped. This likely results in an image that is higher in contrast\n",
    "        than the original but not quite at the desired contrast and with some pixel information lost due to clipping.\n",
    "        verbose: If True, prints out progress during iterative adjustment\n",
    "        steps: If force=True, this sets the number of iterative steps to be used in adjusting the image. The larger the\n",
    "        value, the closer the final image would approach the desired contrast.\n",
    "\n",
    "    Returns:\n",
    "        adjusted_image - a new image adjusted from the original such that the desired mean/contrast is achieved to the\n",
    "            best of the configuration.\n",
    "        clipped - Whether any clipping took place. If True, it indicates that some clipping of pixel intensities occured\n",
    "            and thus some pixel information was lost.\n",
    "        actual_contrast - the final contrast of the image reached\n",
    "\n",
    "\n",
    "    \"\"\"\n",
    "    current_contrast = img.std()\n",
    "\n",
    "    if contrast < 0:\n",
    "        gain = 1   # no adjustment of contrast\n",
    "    else:\n",
    "        gain = contrast / current_contrast\n",
    "\n",
    "    delta = img - img.mean()\n",
    "    if mu is None or mu < 0: # no adjustment of mean\n",
    "        mu = img.mean()\n",
    "\n",
    "    min_pdist = delta[delta > 0].min()\n",
    "    min_ndist = (-delta[delta < 0]).min()\n",
    "\n",
    "    # point beyond which scaling would completely saturate out the image (e.g. all pixels would be completely black or\n",
    "    # white)\n",
    "    max_lim_gain = max((img_max - mu) / min_pdist, (mu - img_min) / min_ndist)\n",
    "\n",
    "    vmax = delta.max()\n",
    "    vmin = delta.min()\n",
    "\n",
    "    # maximum gain that could be used without losing image information\n",
    "    max_gain = min((img_max - mu) / vmax, (img_min-mu) / vmin)\n",
    "\n",
    "    # if True, we already know that the desired contrast cannot be achieved without losing some pixel information\n",
    "    # into the saturation regime\n",
    "    clipped = gain > max_gain\n",
    "\n",
    "    v = np.linspace(0, (img_max-img_min), steps) # candidates for mean adjustment\n",
    "    if clipped and force:\n",
    "        if verbose:\n",
    "            print('Adjusting...')\n",
    "        cont = []\n",
    "        imgs = []\n",
    "        gains = np.logspace(np.log10(gain), np.log10(max_lim_gain), steps)\n",
    "        # for each gain, perform offset adjustment such that the mean is equal to the set value\n",
    "        for g in gains:\n",
    "            img = delta * g + mu\n",
    "            img = np.clip(img, img_min, img_max)\n",
    "            offset = img.mean() - mu # shift in clipped image mean caused by the clipping\n",
    "            if offset < 0: # pixel values needs to be raised\n",
    "                offset = -offset\n",
    "                mask = (img_max-img < v[:, None, None])\n",
    "                nlow = mask.sum(axis=(1, 2)) # pixels that are closer to the bound than v\n",
    "                nhigh = img.size - nlow\n",
    "                # calculate the actual shift in mean that can be achieved by shifting all pixels by v\n",
    "                # then clipping\n",
    "                va = ((mask * (img_max-img)).sum(axis=(1, 2)) + v * nhigh) / (nlow + nhigh)\n",
    "\n",
    "                # find the best candidate offset that achieves closest to the desired shift in the mean\n",
    "                pos = np.argmin(np.abs(va - offset))\n",
    "                actual_offset = -v[pos]\n",
    "            else:\n",
    "                mask = (img-img_min < v[:, None, None])\n",
    "                nlow = mask.sum(axis=(1, 2))\n",
    "                nhigh = img.size - nlow\n",
    "                # actual shift in mean that can be achieved by shifting all pixels by v\n",
    "                va = ((mask * (img-img_min)).sum(axis=(1, 2)) + v * nhigh) / (nlow + nhigh)\n",
    "                pos = np.argmin(np.abs(va - offset))\n",
    "                actual_offset = v[pos]\n",
    "\n",
    "\n",
    "            img = img - actual_offset\n",
    "            img = np.clip(img, img_min, img_max)\n",
    "            # actual contrast achieved with this scale and adjustment\n",
    "            c = img.std()\n",
    "            cont.append(c)\n",
    "            imgs.append(img)\n",
    "            if c > contrast:\n",
    "                break\n",
    "        loc = np.argmin(np.abs(np.array(cont) - contrast))\n",
    "        adj_img = imgs[loc]\n",
    "    else:\n",
    "        adj_img = delta * gain + mu\n",
    "        adj_img = np.clip(adj_img, img_min, img_max)\n",
    "    actual_contrast = adj_img.std()\n",
    "    return adj_img, clipped, actual_contrast"
   ]
  },
  {
   "cell_type": "code",
   "execution_count": 5,
   "metadata": {},
   "outputs": [],
   "source": [
    "def plot_sample(x_gen_store,n_sample,nrows,save_dir, fn,  w, save=False):\n",
    "    ncols = max(1,n_sample//nrows)\n",
    "    sx_gen_store = np.moveaxis(x_gen_store,2,4)                             # change to Numpy image format to (h,w,channels) vs (channels,h,w)\n",
    "    # nsx_gen_store = norm_all(sx_gen_store, sx_gen_store.shape[0], n_sample)   # unity norm to put in range [0,1] for np.imshow\n",
    "    nsx_gen_store = sx_gen_store\n",
    "    \n",
    "    # create gif of images evolving over time, based on x_gen_store\n",
    "    fig, axs = plt.subplots(nrows=nrows, ncols=ncols, sharex=True, sharey=True, figsize = (4*ncols, 4*nrows))\n",
    "    def animate_diff(i, store):\n",
    "        print(f'gif animating frame {i} of {store.shape[0]}', end='\\r')\n",
    "        plots = []\n",
    "        for row in range(nrows):\n",
    "            for col in range(ncols):\n",
    "                if ncols*nrows != 1 and nrows != 1:\n",
    "                    axs[row, col].clear()\n",
    "                    axs[row, col].set_xticks([])\n",
    "                    axs[row, col].set_yticks([])\n",
    "                    plots.append(axs[row, col].imshow(store[i,(row*ncols)+col], vmax=255, vmin=0, aspect='auto', cmap=\"gray\"))\n",
    "                elif ncols*nrows != 1 and nrows == 1:\n",
    "                    axs[col].clear()\n",
    "                    axs[col].set_xticks([])\n",
    "                    axs[col].set_yticks([])\n",
    "                    plots.append(axs[col].imshow(store[i,col], vmax=255, vmin=0, aspect='auto', cmap=\"gray\"))\n",
    "                else:\n",
    "                    axs.clear()\n",
    "                    axs.set_yticks([])\n",
    "                    axs.set_xticks([])\n",
    "                    plots.append(axs.imshow(store[i,col], vmax=255, vmin=0, aspect='auto', cmap=\"gray\"))\n",
    "        return plots\n",
    "    ani = FuncAnimation(fig, animate_diff, fargs=[nsx_gen_store],  interval=200, blit=False, repeat=True, frames=nsx_gen_store.shape[0]) \n",
    "    plt.close()\n",
    "    if save:\n",
    "        ani.save(save_dir + f\"{fn}_w{w}.gif\", dpi=100, writer=PillowWriter(fps=5))\n",
    "        print('saved gif at ' + save_dir + f\"{fn}_w{w}.gif\")\n",
    "    return ani"
   ]
  },
  {
   "cell_type": "code",
   "execution_count": 6,
   "metadata": {},
   "outputs": [],
   "source": [
    "def fft_filter(grad):\n",
    "    return grad"
   ]
  },
  {
   "cell_type": "code",
   "execution_count": 7,
   "metadata": {},
   "outputs": [],
   "source": [
    "def create_gabor(sz=(90,60), phase=0, wavelength=np.pi, orientation=45.0, sigma=5,\n",
    "                 dy=0, dx=0):\n",
    "    \"\"\" Create a gabor patch (sinusoidal + gaussian).\n",
    "\n",
    "    Arguments:\n",
    "        height (int): Height of the image in pixels.\n",
    "        width (int): Width of the image in pixels.\n",
    "        phase (float): Angle at which to start the sinusoid in degrees.\n",
    "        wavelength (float): Wavelength of the sinusoid (1 / spatial frequency) in pixels.\n",
    "        orientation (float): Counterclockwise rotation to apply (0 is horizontal) in\n",
    "            degrees.\n",
    "        sigma (float): Sigma of the gaussian mask used in pixels\n",
    "        dy (float): Amount of translation in y (positive moves down) in pixels/height.\n",
    "        dx (float): Amount of translation in x (positive moves right) in pixels/height.\n",
    "\n",
    "    Returns:\n",
    "        Array of height x width shape with the required gabor.\n",
    "    \"\"\"\n",
    "    if isinstance(sz, (int, float)):\n",
    "        height, width = int(sz), int(sz)\n",
    "    elif isinstance(sz, tuple) and len(sz) == 2:\n",
    "        height, width = int(sz[0]), int(sz[1])\n",
    "    \n",
    "    # Compute image size to avoid translation or rotation producing black spaces\n",
    "    padding = max(height, width)\n",
    "    imheight = height + 2 * padding\n",
    "    imwidth = width + 2 * padding\n",
    "    # we could have diff pad sizes per dimension = max(dim_size, sqrt((h/2)^2 + (w/2)^2))\n",
    "    # but this simplifies the code for just a bit of inefficiency\n",
    "\n",
    "    # Create sinusoid with right wavelength and phase\n",
    "    start_sample = phase\n",
    "    step_size = 360 / wavelength\n",
    "    samples = start_sample + step_size * np.arange(imheight)\n",
    "    samples = np.mod(samples, 360)  # in degrees\n",
    "    rad_samples = samples * (np.pi / 180)  # radians\n",
    "    sin = np.sin(rad_samples)\n",
    "\n",
    "    # Create Gabor by stacking the sinusoid along the cols\n",
    "    gabor = np.tile(sin, (imwidth, 1)).T\n",
    "\n",
    "    # Rotate around center\n",
    "    gabor = ndimage.rotate(gabor, orientation, reshape=False)\n",
    "\n",
    "    # Apply gaussian mask, its is normalized to take values in [0,1]\n",
    "    gaussy = signal.windows.gaussian(imheight, std=sigma)\n",
    "    gaussx = signal.windows.gaussian(imwidth, std=sigma)\n",
    "    mask = np.outer(gaussy, gaussx)\n",
    "    gabor = gabor * mask\n",
    "\n",
    "    # Translate (this is only approximate but it should be good enough)\n",
    "    if abs(dx) > 1 or abs(dy) > 1:\n",
    "        raise ValueError('Please express translations as factors of the height/width,'\n",
    "                         'i.e, a number in interval [-1, 1] ')\n",
    "    dy = int(dy * height)  # int is the approximation\n",
    "    dx = int(dx * width)\n",
    "    gabor = gabor[padding - dy: -padding - dy, padding - dx: -padding - dx]\n",
    "\n",
    "    if gabor.shape != (height, width):\n",
    "        raise ValueError('Dimensions of gabor do not match desired dimensions.')\n",
    "\n",
    "    return gabor.astype(np.float32)"
   ]
  },
  {
   "cell_type": "code",
   "execution_count": 8,
   "metadata": {},
   "outputs": [],
   "source": [
    "def penalty1(image, target=16.0):\n",
    "    # assert image.min()>=0, \"Image needs rescaling\"\n",
    "    # assert image.max()<=255, \"image needs rescaling\"\n",
    "    \n",
    "    # Measure current contrast with RMS\n",
    "    contrast = image.std()\n",
    "    penalty = torch.abs(contrast-target)\n",
    "    return penalty"
   ]
  },
  {
   "cell_type": "code",
   "execution_count": 9,
   "metadata": {},
   "outputs": [],
   "source": [
    "def Loss_fn1(image, device='cpu', penalty=False, norm=True, lambda_factor=2000, target=16.0, **kwargs):\n",
    "    # kwargs are passed to create_gabor: phase=0, wavelength=10, orientation=0, sigma=5, dy=0, dx=0\n",
    "\n",
    "    # Gabor function applied to (x,y) grid centered in (0,0) of size \"sz\"  /  2D Tensor [sz,sz]\n",
    "    height, width = image.size()\n",
    "    D = torch.tensor(create_gabor(sz=(height, width), **kwargs)).to(device)\n",
    "\n",
    "    # Component-wise multiplication, normalized by number of pixels  /  2D Tensor [sz,sz]\n",
    "    prod = torch.mul(D,image)\n",
    "    \n",
    "    # Compute the sum over both x and y\n",
    "    result = torch.sum(prod)\n",
    "\n",
    "    if norm:\n",
    "        result = result * (1/(height*width))\n",
    "\n",
    "    if penalty:\n",
    "        result = result - lambda_factor * penalty1(image, target)\n",
    "\n",
    "    return result"
   ]
  },
  {
   "cell_type": "code",
   "execution_count": 10,
   "metadata": {},
   "outputs": [],
   "source": [
    "def GD(sz=3, \n",
    "       step=100, n_epoch=200, \n",
    "       loss_fn=Loss_fn1, fft_filter=fft_filter,\n",
    "       smooth_check=False, blurr_check=False, blur=1, \n",
    "       penalty=False, lambda_factor=100 , target=16.0, \n",
    "       verbose=False, picture=0, \n",
    "       **kwargs):\n",
    "    \n",
    "    torch.manual_seed(42)\n",
    "\n",
    "    if isinstance(sz, (int, float)):\n",
    "        height, width = int(sz), int(sz)\n",
    "    elif isinstance(sz, tuple) and len(sz) == 2:\n",
    "        height, width = int(sz[0]), int(sz[1])\n",
    "\n",
    "    # Select what device we are using\n",
    "    device = torch.device(\"cuda\") if torch.cuda.is_available() else torch.device(\"cpu\")\n",
    "\n",
    "    print(\"device: \", device)\n",
    "\n",
    "    # Initialize the starting point: a (sz,sz) tensor with random integers from 0 to 255 (8 bit grayscale) \n",
    "    # converted as float to satisfy backpropagation requirements and moved to device\n",
    "\n",
    "    image = torch.randint(0, 255, (height,width)).float().to(device)\n",
    "    controll = image.clone()    # Controll image, we do not apply any denoising\n",
    "\n",
    "    # Keeps Track of image progress during ascent\n",
    "    log1 = []   # For image\n",
    "    log0 = []   # For controll\n",
    "\n",
    "    # Set requires grad to true\n",
    "    image.requires_grad_(True)\n",
    "    \n",
    "\n",
    "    #----------------\n",
    "    # Take a look at the random integer we started with\n",
    "    if verbose:\n",
    "        if picture == 2:\n",
    "            myimshow(image.cpu().detach().numpy(), \"abs\", title=\"START\")\n",
    "    #^^^^^^^^^^^^^^^^\n",
    "\n",
    "    # Iterate for n_epoch times the gradient steps\n",
    "    for epoch in range(n_epoch):\n",
    "        image.requires_grad_(True)\n",
    "        controll.requires_grad_(True)\n",
    "\n",
    "        # Compute loss function of image \n",
    "        loss = loss_fn(image=image, device=device, penalty=penalty, lambda_factor=lambda_factor, target=target, **kwargs)\n",
    "        loss_controll = loss_fn(image=controll, device=device, penalty=penalty, lambda_factor=lambda_factor, target=target, **kwargs)\n",
    "\n",
    "        sigma = blur + ((0.001 - blur) * epoch) / n_epoch\n",
    "        step = step + ((2650 - step) * epoch) / n_epoch\n",
    "\n",
    "        #----------------\n",
    "        # Checking the loss at each iteration\n",
    "        if verbose:\n",
    "            if n_epoch <= 10:\n",
    "                print('Epoch:', epoch, 'Loss:', loss.item())\n",
    "\n",
    "            elif n_epoch <= 100:\n",
    "                if epoch%10 == 0:\n",
    "                    print('Epoch:', epoch, 'Loss:', loss.item())\n",
    "\n",
    "            elif n_epoch <= 1000:\n",
    "                if epoch%100 == 0:\n",
    "                    print('Epoch:', epoch, 'Loss:', loss.item())\n",
    "\n",
    "            else:\n",
    "                if epoch%500 == 0:\n",
    "                    print('Epoch:', epoch, 'Loss:', loss.item())\n",
    "        #^^^^^^^^^^^^^^^^\n",
    "\n",
    "        # Compute gradients\n",
    "        loss.backward()\n",
    "        loss_controll.backward()\n",
    "\n",
    "\n",
    "        # We don't want to include the update in the gradient computation\n",
    "        with torch.no_grad():\n",
    "\n",
    "            grad = image.grad\n",
    "            grad_controll = controll.grad\n",
    "            \n",
    "            # Gradient Smoothing using Fast Fourier Filter on frequencies; part of high frequencies denoise\n",
    "            if smooth_check:\n",
    "                grad = fft_filter(image.grad)\n",
    "\n",
    "            # Proceed with the step: adding the gradient to the imag\n",
    "            image += step * grad\n",
    "            controll += step * grad_controll\n",
    "\n",
    "            # Zeroing the grad for next iteration \n",
    "            image.grad.zero_()\n",
    "            controll.grad.zero_()\n",
    "\n",
    "            # Blurr image if blurr_check; part of high frequencies denoise\n",
    "            if blurr_check:\n",
    "                image = torch.tensor(ndimage.gaussian_filter(image.cpu(), sigma, order=0)).to(device)\n",
    "\n",
    "            # Clamp the obtained image so that pixel saty in the domain [0,255]\n",
    "            image.clamp_(0,255)\n",
    "            controll.clamp_(0,255)\n",
    "\n",
    "            #----------------\n",
    "            # Store image every n iterations\n",
    "            if epoch % 10 == 0:\n",
    "                log1.append(image.unsqueeze(0).unsqueeze(0).detach().cpu().numpy())\n",
    "                log0.append(controll.unsqueeze(0).unsqueeze(0).detach().cpu().numpy())\n",
    "            #^^^^^^^^^^^^^^^^\n",
    "\n",
    "\n",
    "    #----------------\n",
    "    # we finished GD, let's see the results\n",
    "    if verbose:\n",
    "        if picture:\n",
    "            myimshow(image.cpu().detach().numpy(), \"abs\", title=\"END\")\n",
    "        print(\"Current Contrast: \", round(image.std().item(), 3))\n",
    "    #^^^^^^^^^^^^^^^^\n",
    "\n",
    "    #----------------\n",
    "    # and check our result against the true\n",
    "    if verbose:\n",
    "        if picture:\n",
    "            myimshow(create_gabor(sz=sz,**kwargs), \"rel\", title=\"Controll\")\n",
    "        true = rescale_images(create_gabor(sz=sz,**kwargs), 0,255)\n",
    "        print(\"Control Contrast: \",round(true.std(), 3))\n",
    "    #^^^^^^^^^^^^^^^^\n",
    "\n",
    "    log1 = np.stack(log1)\n",
    "    log0 = np.stack(log0)\n",
    "    log = np.concatenate((log1,log0), axis = 1)\n",
    "    return log"
   ]
  },
  {
   "cell_type": "markdown",
   "metadata": {},
   "source": [
    "## Gabor Function"
   ]
  },
  {
   "cell_type": "code",
   "execution_count": 11,
   "metadata": {},
   "outputs": [],
   "source": [
    "def create_gabor(sz=(90,60), phase=0, wavelength=np.pi, orientation=0, sigma=5,\n",
    "                 dy=0, dx=0):\n",
    "    \"\"\" Create a gabor patch (sinusoidal + gaussian).\n",
    "\n",
    "    Arguments:\n",
    "        height (int): Height of the image in pixels.\n",
    "        width (int): Width of the image in pixels.\n",
    "        phase (float): Angle at which to start the sinusoid in degrees.\n",
    "        wavelength (float): Wavelength of the sinusoid (1 / spatial frequency) in pixels.\n",
    "        orientation (float): Counterclockwise rotation to apply (0 is horizontal) in\n",
    "            degrees.\n",
    "        sigma (float): Sigma of the gaussian mask used in pixels\n",
    "        dy (float): Amount of translation in y (positive moves down) in pixels/height.\n",
    "        dx (float): Amount of translation in x (positive moves right) in pixels/height.\n",
    "\n",
    "    Returns:\n",
    "        Array of height x width shape with the required gabor.\n",
    "    \"\"\"\n",
    "    if isinstance(sz, (int, float)):\n",
    "        height, width = int(sz), int(sz)\n",
    "    elif isinstance(sz, tuple) and len(sz) == 2:\n",
    "        height, width = int(sz[0]), int(sz[1])\n",
    "    \n",
    "    # Compute image size to avoid translation or rotation producing black spaces\n",
    "    padding = max(height, width)\n",
    "    imheight = height + 2 * padding\n",
    "    imwidth = width + 2 * padding\n",
    "    # we could have diff pad sizes per dimension = max(dim_size, sqrt((h/2)^2 + (w/2)^2))\n",
    "    # but this simplifies the code for just a bit of inefficiency\n",
    "\n",
    "    # Create sinusoid with right wavelength and phase\n",
    "    start_sample = phase\n",
    "    step_size = 360 / wavelength\n",
    "    samples = start_sample + step_size * np.arange(imheight)\n",
    "    samples = np.mod(samples, 360)  # in degrees\n",
    "    rad_samples = samples * (np.pi / 180)  # radians\n",
    "    sin = np.sin(rad_samples)\n",
    "\n",
    "    # Create Gabor by stacking the sinusoid along the cols\n",
    "    gabor = np.tile(sin, (imwidth, 1)).T\n",
    "\n",
    "    # Rotate around center\n",
    "    gabor = ndimage.rotate(gabor, orientation, reshape=False)\n",
    "\n",
    "    # Apply gaussian mask, its is normalized to take values in [0,1]\n",
    "    gaussy = signal.windows.gaussian(imheight, std=sigma)\n",
    "    gaussx = signal.windows.gaussian(imwidth, std=sigma)\n",
    "    mask = np.outer(gaussy, gaussx)\n",
    "    gabor = gabor * mask\n",
    "\n",
    "    # Translate (this is only approximate but it should be good enough)\n",
    "    if abs(dx) > 1 or abs(dy) > 1:\n",
    "        raise ValueError('Please express translations as factors of the height/width,'\n",
    "                         'i.e, a number in interval [-1, 1] ')\n",
    "    dy = int(dy * height)  # int is the approximation\n",
    "    dx = int(dx * width)\n",
    "    gabor = gabor[padding - dy: -padding - dy, padding - dx: -padding - dx]\n",
    "\n",
    "    if gabor.shape != (height, width):\n",
    "        raise ValueError('Dimensions of gabor do not match desired dimensions.')\n",
    "\n",
    "    return gabor.astype(np.float32)"
   ]
  },
  {
   "cell_type": "code",
   "execution_count": 12,
   "metadata": {},
   "outputs": [
    {
     "data": {
      "image/png": "[encoded data removed]",
      "text/plain": [
       "<Figure size 500x500 with 1 Axes>"
      ]
     },
     "metadata": {},
     "output_type": "display_data"
    }
   ],
   "source": [
    "myimshow(create_gabor((7,7)))"
   ]
  },
  {
   "cell_type": "markdown",
   "metadata": {},
   "source": [
    "## Loss Function"
   ]
  },
  {
   "cell_type": "code",
   "execution_count": 13,
   "metadata": {},
   "outputs": [],
   "source": [
    "def Loss_fn1(image, device='cpu', penalty=False, norm=True, lambda_factor=2000, target=16.0, **kwargs):\n",
    "    # kwargs are passed to create_gabor: phase=0, wavelength=10, orientation=0, sigma=5, dy=0, dx=0\n",
    "\n",
    "    # Gabor function applied to (x,y) grid centered in (0,0) of size \"sz\"  /  2D Tensor [sz,sz]\n",
    "    height, width = image.size()\n",
    "    D = torch.tensor(create_gabor(sz=(height, width), **kwargs)).to(device)\n",
    "\n",
    "    # Component-wise multiplication, normalized by number of pixels  /  2D Tensor [sz,sz]\n",
    "    prod = torch.mul(D,image)\n",
    "    \n",
    "    # Compute the sum over both x and y\n",
    "    result = torch.sum(prod)\n",
    "\n",
    "    if norm:\n",
    "        result = result * (1/(height*width))\n",
    "\n",
    "    if penalty:\n",
    "        result = result - lambda_factor * penalty1(image, target)\n",
    "\n",
    "    return result"
   ]
  },
  {
   "cell_type": "markdown",
   "metadata": {},
   "source": [
    "## Gradient Ascent"
   ]
  },
  {
   "cell_type": "code",
   "execution_count": 14,
   "metadata": {},
   "outputs": [],
   "source": [
    "def GD(sz=7, \n",
    "       step=100, n_epoch=500, \n",
    "       loss_fn=Loss_fn1, fft_filter=fft_filter,\n",
    "       smooth_check=False, blurr_check=False, blur=1, \n",
    "       penalty=False, lambda_factor=100 , target=16.0, \n",
    "       verbose=False, picture=1, \n",
    "       **kwargs):\n",
    "    \n",
    "    torch.manual_seed(42)\n",
    "\n",
    "    if isinstance(sz, (int, float)):\n",
    "        height, width = int(sz), int(sz)\n",
    "    elif isinstance(sz, tuple) and len(sz) == 2:\n",
    "        height, width = int(sz[0]), int(sz[1])\n",
    "\n",
    "    # Select what device we are using\n",
    "    device = torch.device(\"cuda\") if torch.cuda.is_available() else torch.device(\"cpu\")\n",
    "\n",
    "    print(\"device: \", device)\n",
    "\n",
    "    # Initialize the starting point: a (sz,sz) tensor with random integers from 0 to 255 (8 bit grayscale) \n",
    "    # converted as float to satisfy backpropagation requirements and moved to device\n",
    "\n",
    "    image = torch.randint(0, 255, (height,width)).float().to(device)\n",
    "    controll = image.clone()    # Controll image, we do not apply any denoising\n",
    "\n",
    "    # Keeps Track of image progress during ascent\n",
    "    log1 = []   # For image\n",
    "    log0 = []   # For controll\n",
    "\n",
    "    # Set requires grad to true\n",
    "    image.requires_grad_(True)\n",
    "    \n",
    "\n",
    "    #----------------\n",
    "    # Take a look at the random integer we started with\n",
    "    if verbose:\n",
    "        if picture == 2:\n",
    "            myimshow(image.cpu().detach().numpy(), \"abs\", title=\"START\")\n",
    "    #^^^^^^^^^^^^^^^^\n",
    "\n",
    "    # Iterate for n_epoch times the gradient steps\n",
    "    for epoch in range(n_epoch):\n",
    "        image.requires_grad_(True)\n",
    "        controll.requires_grad_(True)\n",
    "\n",
    "        # Compute loss function of image \n",
    "        loss = loss_fn(image=image, device=device, penalty=penalty, lambda_factor=lambda_factor, target=target, **kwargs)\n",
    "        loss_controll = loss_fn(image=controll, device=device, penalty=penalty, lambda_factor=lambda_factor, target=target, **kwargs)\n",
    "\n",
    "        sigma = blur + ((0.001 - blur) * epoch) / n_epoch\n",
    "        step = step + ((2650 - step) * epoch) / n_epoch\n",
    "\n",
    "        #----------------\n",
    "        # Checking the loss at each iteration\n",
    "        if verbose:\n",
    "            if n_epoch <= 10:\n",
    "                print('Epoch:', epoch, 'Loss:', loss.item())\n",
    "\n",
    "            elif n_epoch <= 100:\n",
    "                if epoch%10 == 0:\n",
    "                    print('Epoch:', epoch, 'Loss:', loss.item())\n",
    "\n",
    "            elif n_epoch <= 1000:\n",
    "                if epoch%100 == 0:\n",
    "                    print('Epoch:', epoch, 'Loss:', loss.item())\n",
    "\n",
    "            else:\n",
    "                if epoch%500 == 0:\n",
    "                    print('Epoch:', epoch, 'Loss:', loss.item())\n",
    "        #^^^^^^^^^^^^^^^^\n",
    "\n",
    "        # Compute gradients\n",
    "        loss.backward()\n",
    "        loss_controll.backward()\n",
    "\n",
    "\n",
    "        # We don't want to include the update in the gradient computation\n",
    "        with torch.no_grad():\n",
    "\n",
    "            grad = image.grad\n",
    "            grad_controll = controll.grad\n",
    "            \n",
    "            # Gradient Smoothing using Fast Fourier Filter on frequencies; part of high frequencies denoise\n",
    "            if smooth_check:\n",
    "                grad = fft_filter(image.grad)\n",
    "\n",
    "            # Proceed with the step: adding the gradient to the imag\n",
    "            image += step * grad\n",
    "            controll += step * grad_controll\n",
    "\n",
    "            # Zeroing the grad for next iteration \n",
    "            image.grad.zero_()\n",
    "            controll.grad.zero_()\n",
    "\n",
    "            # Blurr image if blurr_check; part of high frequencies denoise\n",
    "            if blurr_check:\n",
    "                image = torch.tensor(ndimage.gaussian_filter(image.cpu(), sigma, order=0)).to(device)\n",
    "\n",
    "            # Clamp the obtained image so that pixel saty in the domain [0,255]\n",
    "            image.clamp_(0,255)\n",
    "            controll.clamp_(0,255)\n",
    "\n",
    "            #----------------\n",
    "            # Store image every n iterations\n",
    "            if epoch % 10 == 0:\n",
    "                log1.append(image.unsqueeze(0).unsqueeze(0).detach().cpu().numpy())\n",
    "                log0.append(controll.unsqueeze(0).unsqueeze(0).detach().cpu().numpy())\n",
    "            #^^^^^^^^^^^^^^^^\n",
    "\n",
    "\n",
    "    #----------------\n",
    "    # we finished GD, let's see the results\n",
    "    if verbose:\n",
    "        if picture:\n",
    "            myimshow(image.cpu().detach().numpy(), \"abs\")\n",
    "        print(\"Current Contrast: \", round(image.std().item(), 3))\n",
    "    #^^^^^^^^^^^^^^^^\n",
    "\n",
    "    #----------------\n",
    "    # and check our result against the true\n",
    "    if verbose:\n",
    "        if picture:\n",
    "            myimshow(create_gabor(sz=sz,**kwargs), \"rel\")\n",
    "        true = rescale_images(create_gabor(sz=sz,**kwargs), 0,255)\n",
    "        print(\"Control Contrast: \",round(true.std(), 3))\n",
    "    #^^^^^^^^^^^^^^^^\n",
    "\n",
    "    log1 = np.stack(log1)\n",
    "    log0 = np.stack(log0)\n",
    "    log = np.concatenate((log1,log0), axis = 1)\n",
    "    return log"
   ]
  },
  {
   "cell_type": "markdown",
   "metadata": {},
   "source": [
    "## Contrast Adjustment"
   ]
  },
  {
   "cell_type": "markdown",
   "metadata": {},
   "source": [
    "The first problem encountered is the outpu's pixels diverging to black or white.   \n",
    "Losing the gray gradient in between the black and white pixels implies loss of information about the intensity of the signal."
   ]
  },
  {
   "cell_type": "markdown",
   "metadata": {},
   "source": [
    "### Divergence of output"
   ]
  },
  {
   "cell_type": "code",
   "execution_count": 15,
   "metadata": {},
   "outputs": [
    {
     "name": "stdout",
     "output_type": "stream",
     "text": [
      "device:  cuda\n",
      "Epoch: 0 Loss: 0.21190346777439117\n",
      "Epoch: 100 Loss: 79.9749984741211\n",
      "Epoch: 200 Loss: 80.02503204345703\n",
      "Epoch: 300 Loss: 80.07059478759766\n",
      "Epoch: 400 Loss: 80.10469818115234\n",
      "Epoch: 500 Loss: 80.12883758544922\n",
      "Current Contrast:  127.5\n",
      "Control Contrast:  91.362\n"
     ]
    },
    {
     "data": {
      "image/png": "[encoded data removed]",
      "text/plain": [
       "<Figure size 500x500 with 1 Axes>"
      ]
     },
     "metadata": {},
     "output_type": "display_data"
    },
    {
     "data": {
      "image/png": "[encoded data removed]",
      "text/plain": [
       "<Figure size 500x500 with 1 Axes>"
      ]
     },
     "metadata": {},
     "output_type": "display_data"
    }
   ],
   "source": [
    "log = GD(sz=7, n_epoch=600, verbose=True, orientation=90.0)"
   ]
  },
  {
   "cell_type": "code",
   "execution_count": 16,
   "metadata": {},
   "outputs": [
    {
     "data": {
      "image/png": "[encoded data removed]",
      "text/plain": [
       "<Figure size 500x500 with 1 Axes>"
      ]
     },
     "metadata": {},
     "output_type": "display_data"
    },
    {
     "data": {
      "image/png": "[encoded data removed]",
      "text/plain": [
       "<Figure size 500x100 with 1 Axes>"
      ]
     },
     "metadata": {},
     "output_type": "display_data"
    }
   ],
   "source": [
    "torch.manual_seed(42)\n",
    "gabor = create_gabor(7,orientation=90.0)\n",
    "myimshow(gabor)\n",
    "\n",
    "plt.figure(figsize=(5,1))\n",
    "plt.axis('off')\n",
    "plt.imshow([gabor[0]], cmap=\"gray\", vmin=gabor.min(), vmax=gabor.max());"
   ]
  },
  {
   "cell_type": "code",
   "execution_count": 17,
   "metadata": {},
   "outputs": [],
   "source": [
    "import matplotlib.colors as mcolors\n",
    "from matplotlib.gridspec import GridSpec"
   ]
  },
  {
   "cell_type": "code",
   "execution_count": 18,
   "metadata": {},
   "outputs": [
    {
     "data": {
      "text/plain": [
       "(-0.5, 6.5, 5.5, -0.5)"
      ]
     },
     "execution_count": 18,
     "metadata": {},
     "output_type": "execute_result"
    },
    {
     "data": {
      "image/png": "[encoded data removed]",
      "text/plain": [
       "<Figure size 600x600 with 2 Axes>"
      ]
     },
     "metadata": {},
     "output_type": "display_data"
    }
   ],
   "source": [
    "plt.figure(figsize=(6, 6))\n",
    "gs1 = GridSpec(2, 1, height_ratios=[1, 6])\n",
    "\n",
    "ax01 = plt.subplot(gs1[0])\n",
    "ax01.imshow([gabor[0]], cmap=\"gray\", vmin=gabor.min(), vmax=gabor.max())\n",
    "ax01.axis(\"off\")\n",
    "\n",
    "\n",
    "ax02 = plt.subplot(gs1[1])\n",
    "ax02.imshow(gabor[1:], cmap=\"gray\", vmin=gabor.min(), vmax=gabor.max())\n",
    "ax02.axis(\"off\")"
   ]
  },
  {
   "cell_type": "code",
   "execution_count": 19,
   "metadata": {},
   "outputs": [
    {
     "data": {
      "image/png": "[encoded data removed]",
      "text/plain": [
       "<Figure size 600x500 with 2 Axes>"
      ]
     },
     "metadata": {},
     "output_type": "display_data"
    }
   ],
   "source": [
    "x = np.arange(1, len(gabor[0]) + 1)\n",
    "\n",
    "norm = mcolors.Normalize(vmin=gabor.min(), vmax=gabor.max())\n",
    "\n",
    "# Colormap to emulate grayscale\n",
    "cmap_gray = plt.cm.gray\n",
    "\n",
    "# Convert data to grayscale colors\n",
    "colors = [cmap_gray(norm(value)) for value in gabor[0]]\n",
    "\n",
    "plt.rcParams['axes.facecolor'] = 'lightgray'\n",
    "\n",
    "# Plot the histogram\n",
    "plt.figure(figsize=(6, 5))\n",
    "gs2 = GridSpec(2, 1, height_ratios=[3, 1])\n",
    "\n",
    "# plt.bar(x, gabor[0], align='center', width=1, color=colors, edgecolor='black')  # Adjust width as needed\n",
    "# plt.xlabel('Pixel')\n",
    "# plt.ylabel('Value')\n",
    "# plt.title('First Row of Pixels')\n",
    "# plt.grid(True)\n",
    "# plt.show()\n",
    "\n",
    "# Plot the histogram in the first row\n",
    "ax0 = plt.subplot(gs2[0])\n",
    "ax0.bar(x, gabor[0], align='center', width=1, color=colors, edgecolor='black')\n",
    "ax0.xaxis.set_visible(False)\n",
    "ax0.set_ylabel('Value')\n",
    "# ax0.set_title('Gabor First Pixel Row')\n",
    "ax0.grid(True)\n",
    "\n",
    "# Plot the image in the second row\n",
    "ax1 = plt.subplot(gs2[1])\n",
    "ax1.imshow([gabor[0]], cmap=\"gray\", vmin=gabor.min(), vmax=gabor.max())\n",
    "ax1.axis('off')  # Turn off axes for the image plot\n",
    "\n",
    "# Adjust layout to prevent overlap\n",
    "plt.tight_layout()\n",
    "\n",
    "plt.show()"
   ]
  },
  {
   "cell_type": "markdown",
   "metadata": {},
   "source": [
    "### Defining Contrast"
   ]
  },
  {
   "cell_type": "markdown",
   "metadata": {},
   "source": [
    "I'll define contrast as the standard deviation of pixels in the image and introduce a penalty assure it stays close to a target value"
   ]
  },
  {
   "cell_type": "markdown",
   "metadata": {},
   "source": [
    "### Penalty Function"
   ]
  },
  {
   "cell_type": "code",
   "execution_count": 20,
   "metadata": {},
   "outputs": [],
   "source": [
    "def penalty1(image, target=16.0):\n",
    "    assert image.min()>=0, \"Image needs rescaling\"\n",
    "    assert image.max()<=255, \"image needs rescaling\"\n",
    "    \n",
    "    # Measure current contrast with RMS\n",
    "    contrast = image.std()\n",
    "    penalty = torch.abs(contrast-target)\n",
    "    return penalty"
   ]
  },
  {
   "cell_type": "markdown",
   "metadata": {},
   "source": [
    "### Comparison"
   ]
  },
  {
   "cell_type": "code",
   "execution_count": 74,
   "metadata": {},
   "outputs": [
    {
     "name": "stdout",
     "output_type": "stream",
     "text": [
      "device:  cuda\n",
      "Epoch: 0 Loss: -59.95146179199219\n",
      "Epoch: 100 Loss: -0.7009084820747375\n",
      "Epoch: 200 Loss: 0.043682560324668884\n",
      "Epoch: 300 Loss: -0.2969200611114502\n",
      "Epoch: 400 Loss: 0.4309875965118408\n",
      "Epoch: 500 Loss: 0.47876882553100586\n",
      "Epoch: 600 Loss: 0.8951982259750366\n",
      "Current Contrast:  12.815\n",
      "Control Contrast:  17.828\n"
     ]
    },
    {
     "data": {
      "image/png": "[encoded data removed]",
      "text/plain": [
       "<Figure size 500x500 with 1 Axes>"
      ]
     },
     "metadata": {},
     "output_type": "display_data"
    },
    {
     "data": {
      "image/png": "[encoded data removed]",
      "text/plain": [
       "<Figure size 500x500 with 1 Axes>"
      ]
     },
     "metadata": {},
     "output_type": "display_data"
    }
   ],
   "source": [
    "log = GD(sz=(36,64), \n",
    "        step=100, n_epoch=700, \n",
    "        loss_fn=Loss_fn1, fft_filter=fft_filter,\n",
    "        smooth_check=False, blurr_check=True, blur=0.5, \n",
    "        penalty=True, lambda_factor=1 , target=13.0, \n",
    "        verbose=True, picture=1, \n",
    "        orientation=45, phase=0, wavelength=np.pi, sigma=5, dy=0.0, dx=0.0)"
   ]
  }
 ],
 "metadata": {
  "kernelspec": {
   "display_name": "Cuda",
   "language": "python",
   "name": "python3"
  },
  "language_info": {
   "codemirror_mode": {
    "name": "ipython",
    "version": 3
   },
   "file_extension": ".py",
   "mimetype": "text/x-python",
   "name": "python",
   "nbconvert_exporter": "python",
   "pygments_lexer": "ipython3",
   "version": "3.10.10"
  }
 },
 "nbformat": 4,
 "nbformat_minor": 2
}
